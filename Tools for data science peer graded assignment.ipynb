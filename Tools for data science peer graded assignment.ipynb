{
 "cells": [
  {
   "cell_type": "markdown",
   "id": "ca158740-2f71-4e52-bf4c-55ca8f36bcb9",
   "metadata": {},
   "source": [
    "# My Jupyter Notebook on IBM Watson Studio"
   ]
  },
  {
   "cell_type": "markdown",
   "id": "18f97083-1005-477a-aa75-debdb85ead21",
   "metadata": {},
   "source": [
    "**TUBA FAROOQUI**\n",
    "\n",
    "I am currently a student ans I want to become a Data Scientist"
   ]
  },
  {
   "cell_type": "markdown",
   "id": "b71af544-77e5-4e7c-abe1-d37f962843c4",
   "metadata": {},
   "source": [
    "*I am interested in data science because I love to gain insights from data.*"
   ]
  },
  {
   "cell_type": "markdown",
   "id": "1aed48df-ace5-4997-b69a-53d3b3b762aa",
   "metadata": {},
   "source": [
    "### Maximum of two numbers in Python"
   ]
  },
  {
   "cell_type": "code",
   "execution_count": 5,
   "id": "82b5d362-2416-4787-8408-29840bdee13a",
   "metadata": {},
   "outputs": [
    {
     "name": "stdout",
     "output_type": "stream",
     "text": [
      "Smallest element is: 4\n"
     ]
    }
   ],
   "source": [
    "# Python program to find smallest number in a list of numbers\n",
    "\n",
    "list1 = [10, 20, 4, 45, 99]\n",
    "\n",
    "# sorting the list\n",
    "list1.sort()\n",
    "\n",
    "# printing the first element\n",
    "print(\"Smallest element is:\", list1[0])\n"
   ]
  },
  {
   "cell_type": "markdown",
   "id": "a6b77594-983b-4e4e-9b49-46b0a449ec10",
   "metadata": {},
   "source": [
    "### Following is the list of my Favorite Kdramas\n",
    "* The Flower of evil\n",
    "* Reply 1988\n",
    "* The crowned Clown\n",
    "* Doctor Prisoner\n",
    "* Vagabond\n",
    "---\n",
    "~~This text should have a line through the middle of it.~~"
   ]
  },
  {
   "cell_type": "code",
   "execution_count": null,
   "id": "578829f1-2a34-4743-861b-3ccc02d59eaa",
   "metadata": {},
   "outputs": [],
   "source": []
  }
 ],
 "metadata": {
  "kernelspec": {
   "display_name": "Python",
   "language": "python",
   "name": "conda-env-python-py"
  },
  "language_info": {
   "codemirror_mode": {
    "name": "ipython",
    "version": 3
   },
   "file_extension": ".py",
   "mimetype": "text/x-python",
   "name": "python",
   "nbconvert_exporter": "python",
   "pygments_lexer": "ipython3",
   "version": "3.7.12"
  }
 },
 "nbformat": 4,
 "nbformat_minor": 5
}
